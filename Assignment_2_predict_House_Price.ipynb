{
  "nbformat": 4,
  "nbformat_minor": 0,
  "metadata": {
    "colab": {
      "provenance": []
    },
    "kernelspec": {
      "name": "python3",
      "display_name": "Python 3"
    },
    "language_info": {
      "name": "python"
    }
  },
  "cells": [
    {
      "cell_type": "markdown",
      "source": [
        "#  Pattern Recognition Assignment 2"
      ],
      "metadata": {
        "id": "VLAyTBvqMmNq"
      }
    },
    {
      "cell_type": "markdown",
      "source": [
        "### Import Important Packages"
      ],
      "metadata": {
        "id": "0BLkcHayMz-Q"
      }
    },
    {
      "cell_type": "code",
      "execution_count": 1,
      "metadata": {
        "id": "OrnMb8LGBUQz"
      },
      "outputs": [],
      "source": [
        "import tensorflow as tf\n",
        "from tensorflow.keras.datasets import boston_housing\n",
        "from tensorflow.keras.models import Sequential\n",
        "from tensorflow.keras.layers import Dense\n",
        "import matplotlib.pyplot as plt\n"
      ]
    },
    {
      "cell_type": "markdown",
      "source": [
        "### Load and Split Data"
      ],
      "metadata": {
        "id": "VIc-noLrNItV"
      }
    },
    {
      "cell_type": "code",
      "source": [
        " (X_train, y_train), (X_test, y_test) = boston_housing.load_data(path=\"boston_housing.npz\", test_split=0.2, seed=113) "
      ],
      "metadata": {
        "id": "V5VJfuiWBuLX"
      },
      "execution_count": 2,
      "outputs": []
    },
    {
      "cell_type": "code",
      "source": [
        "(X_train.shape, y_train.shape)"
      ],
      "metadata": {
        "colab": {
          "base_uri": "https://localhost:8080/"
        },
        "id": "pH94PC7KCEnC",
        "outputId": "4daf481b-bb83-4477-9de5-c12cfdb0ae83"
      },
      "execution_count": 3,
      "outputs": [
        {
          "output_type": "execute_result",
          "data": {
            "text/plain": [
              "((404, 13), (404,))"
            ]
          },
          "metadata": {},
          "execution_count": 3
        }
      ]
    },
    {
      "cell_type": "code",
      "source": [
        "(X_test.shape, y_test.shape)"
      ],
      "metadata": {
        "colab": {
          "base_uri": "https://localhost:8080/"
        },
        "id": "SFMbh1K0FTg9",
        "outputId": "456ea848-b105-41ea-a6ec-0430b0e83e89"
      },
      "execution_count": 4,
      "outputs": [
        {
          "output_type": "execute_result",
          "data": {
            "text/plain": [
              "((102, 13), (102,))"
            ]
          },
          "metadata": {},
          "execution_count": 4
        }
      ]
    },
    {
      "cell_type": "markdown",
      "source": [
        "### Create Model With Only One Layer"
      ],
      "metadata": {
        "id": "xkVcuSHoNRaD"
      }
    },
    {
      "cell_type": "code",
      "source": [
        "model = Sequential()\n",
        "model.add(Dense(1, activation = 'relu', input_shape=(13,)))\n",
        "model.compile(optimizer='adam', loss = 'mse')\n",
        "model.summary()"
      ],
      "metadata": {
        "id": "3SoOmHKbCJHZ",
        "colab": {
          "base_uri": "https://localhost:8080/"
        },
        "outputId": "89cdbea8-5f63-4f0b-d8f4-1513176557ba"
      },
      "execution_count": 5,
      "outputs": [
        {
          "output_type": "stream",
          "name": "stdout",
          "text": [
            "Model: \"sequential\"\n",
            "_________________________________________________________________\n",
            " Layer (type)                Output Shape              Param #   \n",
            "=================================================================\n",
            " dense (Dense)               (None, 1)                 14        \n",
            "                                                                 \n",
            "=================================================================\n",
            "Total params: 14\n",
            "Trainable params: 14\n",
            "Non-trainable params: 0\n",
            "_________________________________________________________________\n"
          ]
        }
      ]
    },
    {
      "cell_type": "code",
      "source": [
        "epochs = 100\n",
        "train = model.fit(X_train, y_train, batch_size=32, epochs=epochs, validation_split=0.2)"
      ],
      "metadata": {
        "colab": {
          "base_uri": "https://localhost:8080/"
        },
        "id": "OOXkBSGIDagh",
        "outputId": "d219c0c5-d311-45c8-94b6-efee092d3564"
      },
      "execution_count": 6,
      "outputs": [
        {
          "output_type": "stream",
          "name": "stdout",
          "text": [
            "Epoch 1/100\n",
            "11/11 [==============================] - 0s 15ms/step - loss: 135710.6875 - val_loss: 132226.8594\n",
            "Epoch 2/100\n",
            "11/11 [==============================] - 0s 4ms/step - loss: 128292.6719 - val_loss: 125125.6562\n",
            "Epoch 3/100\n",
            "11/11 [==============================] - 0s 4ms/step - loss: 121365.5391 - val_loss: 118203.7656\n",
            "Epoch 4/100\n",
            "11/11 [==============================] - 0s 4ms/step - loss: 114563.1719 - val_loss: 111521.1719\n",
            "Epoch 5/100\n",
            "11/11 [==============================] - 0s 4ms/step - loss: 108012.3828 - val_loss: 105208.7422\n",
            "Epoch 6/100\n",
            "11/11 [==============================] - 0s 5ms/step - loss: 101841.8359 - val_loss: 99136.0078\n",
            "Epoch 7/100\n",
            "11/11 [==============================] - 0s 4ms/step - loss: 95831.9062 - val_loss: 93347.6719\n",
            "Epoch 8/100\n",
            "11/11 [==============================] - 0s 4ms/step - loss: 90110.2266 - val_loss: 87635.1250\n",
            "Epoch 9/100\n",
            "11/11 [==============================] - 0s 4ms/step - loss: 84485.2969 - val_loss: 82294.5469\n",
            "Epoch 10/100\n",
            "11/11 [==============================] - 0s 4ms/step - loss: 79318.4297 - val_loss: 77283.4297\n",
            "Epoch 11/100\n",
            "11/11 [==============================] - 0s 4ms/step - loss: 74462.4453 - val_loss: 72564.7500\n",
            "Epoch 12/100\n",
            "11/11 [==============================] - 0s 4ms/step - loss: 69827.3750 - val_loss: 68126.8438\n",
            "Epoch 13/100\n",
            "11/11 [==============================] - 0s 4ms/step - loss: 65518.0000 - val_loss: 63775.5859\n",
            "Epoch 14/100\n",
            "11/11 [==============================] - 0s 4ms/step - loss: 61220.1289 - val_loss: 59670.9023\n",
            "Epoch 15/100\n",
            "11/11 [==============================] - 0s 4ms/step - loss: 57243.7070 - val_loss: 55807.9492\n",
            "Epoch 16/100\n",
            "11/11 [==============================] - 0s 5ms/step - loss: 53402.0508 - val_loss: 52045.1797\n",
            "Epoch 17/100\n",
            "11/11 [==============================] - 0s 4ms/step - loss: 49816.8125 - val_loss: 48558.3086\n",
            "Epoch 18/100\n",
            "11/11 [==============================] - 0s 4ms/step - loss: 46424.9414 - val_loss: 45251.2812\n",
            "Epoch 19/100\n",
            "11/11 [==============================] - 0s 4ms/step - loss: 43202.2539 - val_loss: 42153.9961\n",
            "Epoch 20/100\n",
            "11/11 [==============================] - 0s 4ms/step - loss: 40187.6289 - val_loss: 39243.1875\n",
            "Epoch 21/100\n",
            "11/11 [==============================] - 0s 4ms/step - loss: 37356.4180 - val_loss: 36490.8906\n",
            "Epoch 22/100\n",
            "11/11 [==============================] - 0s 6ms/step - loss: 34692.8633 - val_loss: 33846.4531\n",
            "Epoch 23/100\n",
            "11/11 [==============================] - 0s 4ms/step - loss: 32136.6680 - val_loss: 31397.4082\n",
            "Epoch 24/100\n",
            "11/11 [==============================] - 0s 4ms/step - loss: 29776.9570 - val_loss: 29118.8418\n",
            "Epoch 25/100\n",
            "11/11 [==============================] - 0s 4ms/step - loss: 27581.2344 - val_loss: 26990.1699\n",
            "Epoch 26/100\n",
            "11/11 [==============================] - 0s 4ms/step - loss: 25530.5410 - val_loss: 24980.5469\n",
            "Epoch 27/100\n",
            "11/11 [==============================] - 0s 6ms/step - loss: 23570.8770 - val_loss: 23110.2383\n",
            "Epoch 28/100\n",
            "11/11 [==============================] - 0s 13ms/step - loss: 21751.8848 - val_loss: 21263.0254\n",
            "Epoch 29/100\n",
            "11/11 [==============================] - 0s 7ms/step - loss: 19973.8613 - val_loss: 19626.2598\n",
            "Epoch 30/100\n",
            "11/11 [==============================] - 0s 7ms/step - loss: 18393.0352 - val_loss: 18060.1914\n",
            "Epoch 31/100\n",
            "11/11 [==============================] - 0s 8ms/step - loss: 16914.3125 - val_loss: 16620.6992\n",
            "Epoch 32/100\n",
            "11/11 [==============================] - 0s 6ms/step - loss: 15529.5352 - val_loss: 15300.0801\n",
            "Epoch 33/100\n",
            "11/11 [==============================] - 0s 7ms/step - loss: 14263.4717 - val_loss: 14060.6777\n",
            "Epoch 34/100\n",
            "11/11 [==============================] - 0s 8ms/step - loss: 13092.8066 - val_loss: 12912.8721\n",
            "Epoch 35/100\n",
            "11/11 [==============================] - 0s 10ms/step - loss: 12007.9756 - val_loss: 11856.5752\n",
            "Epoch 36/100\n",
            "11/11 [==============================] - 0s 8ms/step - loss: 10981.0791 - val_loss: 10859.8857\n",
            "Epoch 37/100\n",
            "11/11 [==============================] - 0s 5ms/step - loss: 10028.8750 - val_loss: 9911.5000\n",
            "Epoch 38/100\n",
            "11/11 [==============================] - 0s 6ms/step - loss: 9128.0576 - val_loss: 9043.4160\n",
            "Epoch 39/100\n",
            "11/11 [==============================] - 0s 7ms/step - loss: 8302.6807 - val_loss: 8244.1484\n",
            "Epoch 40/100\n",
            "11/11 [==============================] - 0s 7ms/step - loss: 7564.2563 - val_loss: 7527.3813\n",
            "Epoch 41/100\n",
            "11/11 [==============================] - 0s 7ms/step - loss: 6887.4736 - val_loss: 6886.8018\n",
            "Epoch 42/100\n",
            "11/11 [==============================] - 0s 8ms/step - loss: 6269.2891 - val_loss: 6274.1743\n",
            "Epoch 43/100\n",
            "11/11 [==============================] - 0s 7ms/step - loss: 5693.4375 - val_loss: 5727.3281\n",
            "Epoch 44/100\n",
            "11/11 [==============================] - 0s 7ms/step - loss: 5189.7759 - val_loss: 5216.9492\n",
            "Epoch 45/100\n",
            "11/11 [==============================] - 0s 7ms/step - loss: 4705.0063 - val_loss: 4731.3208\n",
            "Epoch 46/100\n",
            "11/11 [==============================] - 0s 9ms/step - loss: 4257.8291 - val_loss: 4298.4639\n",
            "Epoch 47/100\n",
            "11/11 [==============================] - 0s 7ms/step - loss: 3857.1162 - val_loss: 3913.4575\n",
            "Epoch 48/100\n",
            "11/11 [==============================] - 0s 7ms/step - loss: 3501.2473 - val_loss: 3565.0247\n",
            "Epoch 49/100\n",
            "11/11 [==============================] - 0s 7ms/step - loss: 3182.4109 - val_loss: 3249.4214\n",
            "Epoch 50/100\n",
            "11/11 [==============================] - 0s 13ms/step - loss: 2893.2065 - val_loss: 2961.5090\n",
            "Epoch 51/100\n",
            "11/11 [==============================] - 0s 7ms/step - loss: 2627.8203 - val_loss: 2700.7393\n",
            "Epoch 52/100\n",
            "11/11 [==============================] - 0s 11ms/step - loss: 2389.2500 - val_loss: 2468.1494\n",
            "Epoch 53/100\n",
            "11/11 [==============================] - 0s 7ms/step - loss: 2173.0598 - val_loss: 2249.9250\n",
            "Epoch 54/100\n",
            "11/11 [==============================] - 0s 7ms/step - loss: 1971.4233 - val_loss: 2047.6626\n",
            "Epoch 55/100\n",
            "11/11 [==============================] - 0s 11ms/step - loss: 1788.6396 - val_loss: 1863.0677\n",
            "Epoch 56/100\n",
            "11/11 [==============================] - 0s 9ms/step - loss: 1621.6277 - val_loss: 1697.8108\n",
            "Epoch 57/100\n",
            "11/11 [==============================] - 0s 13ms/step - loss: 1474.3149 - val_loss: 1550.3943\n",
            "Epoch 58/100\n",
            "11/11 [==============================] - 0s 8ms/step - loss: 1343.3633 - val_loss: 1422.3136\n",
            "Epoch 59/100\n",
            "11/11 [==============================] - 0s 8ms/step - loss: 1231.6686 - val_loss: 1306.3096\n",
            "Epoch 60/100\n",
            "11/11 [==============================] - 0s 7ms/step - loss: 1128.7820 - val_loss: 1201.4691\n",
            "Epoch 61/100\n",
            "11/11 [==============================] - 0s 6ms/step - loss: 1036.7639 - val_loss: 1109.0543\n",
            "Epoch 62/100\n",
            "11/11 [==============================] - 0s 11ms/step - loss: 955.7755 - val_loss: 1027.2615\n",
            "Epoch 63/100\n",
            "11/11 [==============================] - 0s 15ms/step - loss: 884.7758 - val_loss: 953.1466\n",
            "Epoch 64/100\n",
            "11/11 [==============================] - 0s 12ms/step - loss: 818.3257 - val_loss: 884.5259\n",
            "Epoch 65/100\n",
            "11/11 [==============================] - 0s 17ms/step - loss: 757.5394 - val_loss: 819.4001\n",
            "Epoch 66/100\n",
            "11/11 [==============================] - 0s 18ms/step - loss: 702.8633 - val_loss: 764.8064\n",
            "Epoch 67/100\n",
            "11/11 [==============================] - 0s 12ms/step - loss: 654.9915 - val_loss: 712.4797\n",
            "Epoch 68/100\n",
            "11/11 [==============================] - 0s 15ms/step - loss: 612.5037 - val_loss: 668.8450\n",
            "Epoch 69/100\n",
            "11/11 [==============================] - 0s 12ms/step - loss: 573.9699 - val_loss: 627.0969\n",
            "Epoch 70/100\n",
            "11/11 [==============================] - 0s 11ms/step - loss: 538.8218 - val_loss: 590.2175\n",
            "Epoch 71/100\n",
            "11/11 [==============================] - 0s 11ms/step - loss: 508.9061 - val_loss: 559.2456\n",
            "Epoch 72/100\n",
            "11/11 [==============================] - 0s 12ms/step - loss: 483.0200 - val_loss: 534.1805\n",
            "Epoch 73/100\n",
            "11/11 [==============================] - 0s 13ms/step - loss: 461.0992 - val_loss: 509.3505\n",
            "Epoch 74/100\n",
            "11/11 [==============================] - 0s 17ms/step - loss: 441.0560 - val_loss: 488.3632\n",
            "Epoch 75/100\n",
            "11/11 [==============================] - 0s 14ms/step - loss: 423.3223 - val_loss: 468.6910\n",
            "Epoch 76/100\n",
            "11/11 [==============================] - 0s 14ms/step - loss: 407.7193 - val_loss: 451.7255\n",
            "Epoch 77/100\n",
            "11/11 [==============================] - 0s 12ms/step - loss: 393.7925 - val_loss: 438.3758\n",
            "Epoch 78/100\n",
            "11/11 [==============================] - 0s 8ms/step - loss: 383.2390 - val_loss: 426.2205\n",
            "Epoch 79/100\n",
            "11/11 [==============================] - 0s 14ms/step - loss: 372.9860 - val_loss: 416.1064\n",
            "Epoch 80/100\n",
            "11/11 [==============================] - 0s 7ms/step - loss: 364.7373 - val_loss: 406.0646\n",
            "Epoch 81/100\n",
            "11/11 [==============================] - 0s 14ms/step - loss: 356.6543 - val_loss: 397.4564\n",
            "Epoch 82/100\n",
            "11/11 [==============================] - 0s 6ms/step - loss: 348.9418 - val_loss: 388.3170\n",
            "Epoch 83/100\n",
            "11/11 [==============================] - 0s 6ms/step - loss: 341.6459 - val_loss: 380.2636\n",
            "Epoch 84/100\n",
            "11/11 [==============================] - 0s 7ms/step - loss: 335.5316 - val_loss: 373.0585\n",
            "Epoch 85/100\n",
            "11/11 [==============================] - 0s 10ms/step - loss: 329.5992 - val_loss: 367.7585\n",
            "Epoch 86/100\n",
            "11/11 [==============================] - 0s 12ms/step - loss: 324.7561 - val_loss: 362.0607\n",
            "Epoch 87/100\n",
            "11/11 [==============================] - 0s 7ms/step - loss: 320.5495 - val_loss: 357.0358\n",
            "Epoch 88/100\n",
            "11/11 [==============================] - 0s 8ms/step - loss: 316.6030 - val_loss: 353.2349\n",
            "Epoch 89/100\n",
            "11/11 [==============================] - 0s 7ms/step - loss: 313.5321 - val_loss: 349.9768\n",
            "Epoch 90/100\n",
            "11/11 [==============================] - 0s 13ms/step - loss: 310.7794 - val_loss: 347.0820\n",
            "Epoch 91/100\n",
            "11/11 [==============================] - 0s 10ms/step - loss: 308.1674 - val_loss: 343.1542\n",
            "Epoch 92/100\n",
            "11/11 [==============================] - 0s 12ms/step - loss: 305.1817 - val_loss: 340.2728\n",
            "Epoch 93/100\n",
            "11/11 [==============================] - 0s 10ms/step - loss: 302.9003 - val_loss: 337.6245\n",
            "Epoch 94/100\n",
            "11/11 [==============================] - 0s 13ms/step - loss: 300.4497 - val_loss: 335.0570\n",
            "Epoch 95/100\n",
            "11/11 [==============================] - 0s 7ms/step - loss: 298.3994 - val_loss: 332.5561\n",
            "Epoch 96/100\n",
            "11/11 [==============================] - 0s 10ms/step - loss: 296.0554 - val_loss: 330.0042\n",
            "Epoch 97/100\n",
            "11/11 [==============================] - 0s 7ms/step - loss: 293.6401 - val_loss: 327.4610\n",
            "Epoch 98/100\n",
            "11/11 [==============================] - 0s 8ms/step - loss: 291.6775 - val_loss: 325.5852\n",
            "Epoch 99/100\n",
            "11/11 [==============================] - 0s 17ms/step - loss: 290.1707 - val_loss: 324.2828\n",
            "Epoch 100/100\n",
            "11/11 [==============================] - 0s 7ms/step - loss: 289.1022 - val_loss: 323.0986\n"
          ]
        }
      ]
    },
    {
      "cell_type": "code",
      "source": [
        "model.evaluate(X_test, y_test)"
      ],
      "metadata": {
        "colab": {
          "base_uri": "https://localhost:8080/"
        },
        "id": "72LMUQ2RHpuD",
        "outputId": "1ffd0a1f-31a4-49c3-c43e-b98aac02e7c0"
      },
      "execution_count": 7,
      "outputs": [
        {
          "output_type": "stream",
          "name": "stdout",
          "text": [
            "4/4 [==============================] - 0s 3ms/step - loss: 381.6453\n"
          ]
        },
        {
          "output_type": "execute_result",
          "data": {
            "text/plain": [
              "381.645263671875"
            ]
          },
          "metadata": {},
          "execution_count": 7
        }
      ]
    },
    {
      "cell_type": "code",
      "source": [
        "plt.figure(figsize=(5,5))\n",
        "plt.title('Training Loss')\n",
        "plt.plot(range(epochs), train.history['loss'], label='train')\n",
        "plt.plot(range(epochs), train.history['val_loss'], label='validation')\n",
        "plt.xlabel('epochs')\n",
        "plt.ylabel('MSE')\n",
        "plt.legend()\n",
        "plt.show()"
      ],
      "metadata": {
        "colab": {
          "base_uri": "https://localhost:8080/",
          "height": 350
        },
        "id": "vYDerRkQFu5B",
        "outputId": "390abc86-88e4-4068-8342-383344d8ecae"
      },
      "execution_count": 8,
      "outputs": [
        {
          "output_type": "display_data",
          "data": {
            "text/plain": [
              "<Figure size 360x360 with 1 Axes>"
            ],
            "image/png": "[encoded data removed]"
          },
          "metadata": {
            "needs_background": "light"
          }
        }
      ]
    },
    {
      "cell_type": "markdown",
      "source": [
        "### Create Model With Two Layers"
      ],
      "metadata": {
        "id": "u9FN2BcQNdqz"
      }
    },
    {
      "cell_type": "code",
      "source": [
        "model2 = Sequential()\n",
        "model2.add(Dense(64, activation = 'relu', input_shape=(13,)))\n",
        "model2.add(Dense(1, activation='relu'))\n",
        "model2.compile(optimizer='adam', loss = 'mse')\n",
        "model2.summary()"
      ],
      "metadata": {
        "colab": {
          "base_uri": "https://localhost:8080/"
        },
        "id": "IRwTDxgNGVMN",
        "outputId": "b4524b26-b2a0-4781-b4e1-b81d3408720e"
      },
      "execution_count": 24,
      "outputs": [
        {
          "output_type": "stream",
          "name": "stdout",
          "text": [
            "Model: \"sequential_4\"\n",
            "_________________________________________________________________\n",
            " Layer (type)                Output Shape              Param #   \n",
            "=================================================================\n",
            " dense_7 (Dense)             (None, 64)                896       \n",
            "                                                                 \n",
            " dense_8 (Dense)             (None, 1)                 65        \n",
            "                                                                 \n",
            "=================================================================\n",
            "Total params: 961\n",
            "Trainable params: 961\n",
            "Non-trainable params: 0\n",
            "_________________________________________________________________\n"
          ]
        }
      ]
    },
    {
      "cell_type": "code",
      "source": [
        "epochs = 100\n",
        "train2 = model2.fit(X_train, y_train, batch_size=32, epochs=epochs, validation_split=0.2)"
      ],
      "metadata": {
        "colab": {
          "base_uri": "https://localhost:8080/"
        },
        "id": "wscM6OABKoj2",
        "outputId": "a3eb6a92-74c1-465e-dcd1-ee9c40b5e103"
      },
      "execution_count": 25,
      "outputs": [
        {
          "output_type": "stream",
          "name": "stdout",
          "text": [
            "Epoch 1/100\n",
            "11/11 [==============================] - 1s 14ms/step - loss: 1115.7172 - val_loss: 165.7831\n",
            "Epoch 2/100\n",
            "11/11 [==============================] - 0s 6ms/step - loss: 235.1117 - val_loss: 312.5196\n",
            "Epoch 3/100\n",
            "11/11 [==============================] - 0s 6ms/step - loss: 232.1209 - val_loss: 169.4262\n",
            "Epoch 4/100\n",
            "11/11 [==============================] - 0s 4ms/step - loss: 140.4927 - val_loss: 175.4415\n",
            "Epoch 5/100\n",
            "11/11 [==============================] - 0s 4ms/step - loss: 131.9942 - val_loss: 151.0992\n",
            "Epoch 6/100\n",
            "11/11 [==============================] - 0s 4ms/step - loss: 120.9312 - val_loss: 141.2921\n",
            "Epoch 7/100\n",
            "11/11 [==============================] - 0s 4ms/step - loss: 114.5056 - val_loss: 136.6344\n",
            "Epoch 8/100\n",
            "11/11 [==============================] - 0s 4ms/step - loss: 111.9283 - val_loss: 132.1572\n",
            "Epoch 9/100\n",
            "11/11 [==============================] - 0s 6ms/step - loss: 108.7239 - val_loss: 129.3814\n",
            "Epoch 10/100\n",
            "11/11 [==============================] - 0s 4ms/step - loss: 110.0571 - val_loss: 124.3020\n",
            "Epoch 11/100\n",
            "11/11 [==============================] - 0s 4ms/step - loss: 99.3535 - val_loss: 115.8308\n",
            "Epoch 12/100\n",
            "11/11 [==============================] - 0s 4ms/step - loss: 90.2688 - val_loss: 111.4416\n",
            "Epoch 13/100\n",
            "11/11 [==============================] - 0s 4ms/step - loss: 86.9574 - val_loss: 107.3554\n",
            "Epoch 14/100\n",
            "11/11 [==============================] - 0s 4ms/step - loss: 82.6539 - val_loss: 104.5189\n",
            "Epoch 15/100\n",
            "11/11 [==============================] - 0s 4ms/step - loss: 81.3627 - val_loss: 102.3657\n",
            "Epoch 16/100\n",
            "11/11 [==============================] - 0s 4ms/step - loss: 80.4351 - val_loss: 97.1015\n",
            "Epoch 17/100\n",
            "11/11 [==============================] - 0s 4ms/step - loss: 76.5555 - val_loss: 93.8764\n",
            "Epoch 18/100\n",
            "11/11 [==============================] - 0s 4ms/step - loss: 72.2728 - val_loss: 88.6313\n",
            "Epoch 19/100\n",
            "11/11 [==============================] - 0s 6ms/step - loss: 69.3504 - val_loss: 84.2631\n",
            "Epoch 20/100\n",
            "11/11 [==============================] - 0s 4ms/step - loss: 76.6223 - val_loss: 86.8161\n",
            "Epoch 21/100\n",
            "11/11 [==============================] - 0s 4ms/step - loss: 68.0600 - val_loss: 80.6527\n",
            "Epoch 22/100\n",
            "11/11 [==============================] - 0s 4ms/step - loss: 63.6963 - val_loss: 79.2272\n",
            "Epoch 23/100\n",
            "11/11 [==============================] - 0s 6ms/step - loss: 61.6487 - val_loss: 82.5245\n",
            "Epoch 24/100\n",
            "11/11 [==============================] - 0s 4ms/step - loss: 64.1145 - val_loss: 75.4986\n",
            "Epoch 25/100\n",
            "11/11 [==============================] - 0s 4ms/step - loss: 59.5174 - val_loss: 77.9730\n",
            "Epoch 26/100\n",
            "11/11 [==============================] - 0s 4ms/step - loss: 59.5574 - val_loss: 71.7708\n",
            "Epoch 27/100\n",
            "11/11 [==============================] - 0s 4ms/step - loss: 56.0714 - val_loss: 75.5245\n",
            "Epoch 28/100\n",
            "11/11 [==============================] - 0s 7ms/step - loss: 56.5339 - val_loss: 69.7153\n",
            "Epoch 29/100\n",
            "11/11 [==============================] - 0s 4ms/step - loss: 55.1654 - val_loss: 69.1517\n",
            "Epoch 30/100\n",
            "11/11 [==============================] - 0s 6ms/step - loss: 53.0367 - val_loss: 69.1715\n",
            "Epoch 31/100\n",
            "11/11 [==============================] - 0s 6ms/step - loss: 52.7071 - val_loss: 66.3972\n",
            "Epoch 32/100\n",
            "11/11 [==============================] - 0s 4ms/step - loss: 51.0812 - val_loss: 68.7916\n",
            "Epoch 33/100\n",
            "11/11 [==============================] - 0s 4ms/step - loss: 52.4441 - val_loss: 66.5647\n",
            "Epoch 34/100\n",
            "11/11 [==============================] - 0s 5ms/step - loss: 50.7984 - val_loss: 62.6330\n",
            "Epoch 35/100\n",
            "11/11 [==============================] - 0s 5ms/step - loss: 51.3746 - val_loss: 63.3489\n",
            "Epoch 36/100\n",
            "11/11 [==============================] - 0s 6ms/step - loss: 49.4321 - val_loss: 69.2302\n",
            "Epoch 37/100\n",
            "11/11 [==============================] - 0s 6ms/step - loss: 51.5403 - val_loss: 60.1312\n",
            "Epoch 38/100\n",
            "11/11 [==============================] - 0s 6ms/step - loss: 46.2444 - val_loss: 62.3799\n",
            "Epoch 39/100\n",
            "11/11 [==============================] - 0s 4ms/step - loss: 48.8185 - val_loss: 58.0350\n",
            "Epoch 40/100\n",
            "11/11 [==============================] - 0s 6ms/step - loss: 46.8202 - val_loss: 57.5923\n",
            "Epoch 41/100\n",
            "11/11 [==============================] - 0s 6ms/step - loss: 44.6963 - val_loss: 62.4054\n",
            "Epoch 42/100\n",
            "11/11 [==============================] - 0s 4ms/step - loss: 43.9140 - val_loss: 56.0959\n",
            "Epoch 43/100\n",
            "11/11 [==============================] - 0s 4ms/step - loss: 43.2555 - val_loss: 55.3666\n",
            "Epoch 44/100\n",
            "11/11 [==============================] - 0s 4ms/step - loss: 43.3407 - val_loss: 59.5988\n",
            "Epoch 45/100\n",
            "11/11 [==============================] - 0s 6ms/step - loss: 43.3920 - val_loss: 53.6109\n",
            "Epoch 46/100\n",
            "11/11 [==============================] - 0s 6ms/step - loss: 44.0732 - val_loss: 53.6076\n",
            "Epoch 47/100\n",
            "11/11 [==============================] - 0s 4ms/step - loss: 42.3290 - val_loss: 53.2767\n",
            "Epoch 48/100\n",
            "11/11 [==============================] - 0s 5ms/step - loss: 43.9212 - val_loss: 62.3662\n",
            "Epoch 49/100\n",
            "11/11 [==============================] - 0s 4ms/step - loss: 41.3127 - val_loss: 52.7860\n",
            "Epoch 50/100\n",
            "11/11 [==============================] - 0s 5ms/step - loss: 40.0060 - val_loss: 51.9601\n",
            "Epoch 51/100\n",
            "11/11 [==============================] - 0s 5ms/step - loss: 39.3447 - val_loss: 50.7368\n",
            "Epoch 52/100\n",
            "11/11 [==============================] - 0s 4ms/step - loss: 39.5989 - val_loss: 50.7858\n",
            "Epoch 53/100\n",
            "11/11 [==============================] - 0s 4ms/step - loss: 38.9810 - val_loss: 49.0244\n",
            "Epoch 54/100\n",
            "11/11 [==============================] - 0s 5ms/step - loss: 37.8686 - val_loss: 51.8178\n",
            "Epoch 55/100\n",
            "11/11 [==============================] - 0s 6ms/step - loss: 39.0022 - val_loss: 48.9936\n",
            "Epoch 56/100\n",
            "11/11 [==============================] - 0s 6ms/step - loss: 37.5931 - val_loss: 49.8491\n",
            "Epoch 57/100\n",
            "11/11 [==============================] - 0s 4ms/step - loss: 35.9752 - val_loss: 47.4148\n",
            "Epoch 58/100\n",
            "11/11 [==============================] - 0s 6ms/step - loss: 36.1559 - val_loss: 50.1235\n",
            "Epoch 59/100\n",
            "11/11 [==============================] - 0s 6ms/step - loss: 35.4830 - val_loss: 46.5910\n",
            "Epoch 60/100\n",
            "11/11 [==============================] - 0s 4ms/step - loss: 35.3355 - val_loss: 48.3102\n",
            "Epoch 61/100\n",
            "11/11 [==============================] - 0s 4ms/step - loss: 35.8360 - val_loss: 46.1554\n",
            "Epoch 62/100\n",
            "11/11 [==============================] - 0s 4ms/step - loss: 35.8409 - val_loss: 45.8154\n",
            "Epoch 63/100\n",
            "11/11 [==============================] - 0s 6ms/step - loss: 34.6825 - val_loss: 50.5822\n",
            "Epoch 64/100\n",
            "11/11 [==============================] - 0s 4ms/step - loss: 34.7754 - val_loss: 46.8942\n",
            "Epoch 65/100\n",
            "11/11 [==============================] - 0s 6ms/step - loss: 34.5962 - val_loss: 44.7791\n",
            "Epoch 66/100\n",
            "11/11 [==============================] - 0s 4ms/step - loss: 44.6405 - val_loss: 68.5135\n",
            "Epoch 67/100\n",
            "11/11 [==============================] - 0s 4ms/step - loss: 38.6172 - val_loss: 44.7857\n",
            "Epoch 68/100\n",
            "11/11 [==============================] - 0s 4ms/step - loss: 34.1602 - val_loss: 44.7937\n",
            "Epoch 69/100\n",
            "11/11 [==============================] - 0s 4ms/step - loss: 32.9299 - val_loss: 43.6904\n",
            "Epoch 70/100\n",
            "11/11 [==============================] - 0s 6ms/step - loss: 32.9785 - val_loss: 51.5968\n",
            "Epoch 71/100\n",
            "11/11 [==============================] - 0s 5ms/step - loss: 33.8734 - val_loss: 44.1165\n",
            "Epoch 72/100\n",
            "11/11 [==============================] - 0s 4ms/step - loss: 32.5903 - val_loss: 44.8790\n",
            "Epoch 73/100\n",
            "11/11 [==============================] - 0s 4ms/step - loss: 32.3728 - val_loss: 45.7736\n",
            "Epoch 74/100\n",
            "11/11 [==============================] - 0s 6ms/step - loss: 54.8815 - val_loss: 79.4591\n",
            "Epoch 75/100\n",
            "11/11 [==============================] - 0s 4ms/step - loss: 40.7140 - val_loss: 46.4501\n",
            "Epoch 76/100\n",
            "11/11 [==============================] - 0s 4ms/step - loss: 37.2040 - val_loss: 41.0967\n",
            "Epoch 77/100\n",
            "11/11 [==============================] - 0s 5ms/step - loss: 38.1300 - val_loss: 49.6955\n",
            "Epoch 78/100\n",
            "11/11 [==============================] - 0s 4ms/step - loss: 32.2267 - val_loss: 42.1664\n",
            "Epoch 79/100\n",
            "11/11 [==============================] - 0s 4ms/step - loss: 30.1349 - val_loss: 40.9720\n",
            "Epoch 80/100\n",
            "11/11 [==============================] - 0s 4ms/step - loss: 30.3305 - val_loss: 41.2840\n",
            "Epoch 81/100\n",
            "11/11 [==============================] - 0s 4ms/step - loss: 30.2226 - val_loss: 40.1728\n",
            "Epoch 82/100\n",
            "11/11 [==============================] - 0s 6ms/step - loss: 30.7713 - val_loss: 40.0567\n",
            "Epoch 83/100\n",
            "11/11 [==============================] - 0s 6ms/step - loss: 30.0743 - val_loss: 39.5824\n",
            "Epoch 84/100\n",
            "11/11 [==============================] - 0s 4ms/step - loss: 38.7741 - val_loss: 51.9102\n",
            "Epoch 85/100\n",
            "11/11 [==============================] - 0s 6ms/step - loss: 31.9602 - val_loss: 41.2780\n",
            "Epoch 86/100\n",
            "11/11 [==============================] - 0s 6ms/step - loss: 29.4142 - val_loss: 39.5599\n",
            "Epoch 87/100\n",
            "11/11 [==============================] - 0s 6ms/step - loss: 29.5778 - val_loss: 41.2177\n",
            "Epoch 88/100\n",
            "11/11 [==============================] - 0s 4ms/step - loss: 29.1769 - val_loss: 42.6107\n",
            "Epoch 89/100\n",
            "11/11 [==============================] - 0s 6ms/step - loss: 29.8621 - val_loss: 39.3240\n",
            "Epoch 90/100\n",
            "11/11 [==============================] - 0s 6ms/step - loss: 29.7247 - val_loss: 38.8711\n",
            "Epoch 91/100\n",
            "11/11 [==============================] - 0s 6ms/step - loss: 32.3420 - val_loss: 44.8625\n",
            "Epoch 92/100\n",
            "11/11 [==============================] - 0s 6ms/step - loss: 29.9296 - val_loss: 39.3693\n",
            "Epoch 93/100\n",
            "11/11 [==============================] - 0s 4ms/step - loss: 29.7571 - val_loss: 39.9327\n",
            "Epoch 94/100\n",
            "11/11 [==============================] - 0s 4ms/step - loss: 32.5784 - val_loss: 44.1391\n",
            "Epoch 95/100\n",
            "11/11 [==============================] - 0s 4ms/step - loss: 28.6431 - val_loss: 39.5033\n",
            "Epoch 96/100\n",
            "11/11 [==============================] - 0s 4ms/step - loss: 30.7254 - val_loss: 38.1217\n",
            "Epoch 97/100\n",
            "11/11 [==============================] - 0s 4ms/step - loss: 30.6155 - val_loss: 38.9956\n",
            "Epoch 98/100\n",
            "11/11 [==============================] - 0s 4ms/step - loss: 31.8534 - val_loss: 39.3847\n",
            "Epoch 99/100\n",
            "11/11 [==============================] - 0s 4ms/step - loss: 30.3025 - val_loss: 39.4417\n",
            "Epoch 100/100\n",
            "11/11 [==============================] - 0s 4ms/step - loss: 28.7768 - val_loss: 38.5908\n"
          ]
        }
      ]
    },
    {
      "cell_type": "code",
      "source": [
        "model2.evaluate(X_test, y_test)"
      ],
      "metadata": {
        "colab": {
          "base_uri": "https://localhost:8080/"
        },
        "outputId": "c8c895f3-f09c-416c-e553-424a62cbaca1",
        "id": "mc98-wopKxO1"
      },
      "execution_count": 26,
      "outputs": [
        {
          "output_type": "stream",
          "name": "stdout",
          "text": [
            "4/4 [==============================] - 0s 2ms/step - loss: 35.9323\n"
          ]
        },
        {
          "output_type": "execute_result",
          "data": {
            "text/plain": [
              "35.932308197021484"
            ]
          },
          "metadata": {},
          "execution_count": 26
        }
      ]
    },
    {
      "cell_type": "code",
      "source": [
        "plt.figure(figsize=(5,5))\n",
        "plt.title('Training Loss')\n",
        "plt.plot(range(epochs), train2.history['loss'], label='train')\n",
        "plt.plot(range(epochs), train2.history['val_loss'], label='validation')\n",
        "plt.xlabel('epochs')\n",
        "plt.ylabel('MSE')\n",
        "plt.legend()\n",
        "plt.show()"
      ],
      "metadata": {
        "colab": {
          "base_uri": "https://localhost:8080/",
          "height": 350
        },
        "outputId": "eada5349-02cb-47e3-ef40-2d776f8eb74a",
        "id": "bbbdMOSGKxO3"
      },
      "execution_count": 27,
      "outputs": [
        {
          "output_type": "display_data",
          "data": {
            "text/plain": [
              "<Figure size 360x360 with 1 Axes>"
            ],
            "image/png": "[encoded data removed]"
          },
          "metadata": {
            "needs_background": "light"
          }
        }
      ]
    },
    {
      "cell_type": "markdown",
      "source": [
        "# Compare Two Models"
      ],
      "metadata": {
        "id": "vU048MOeNjlM"
      }
    },
    {
      "cell_type": "code",
      "source": [
        "plt.figure(figsize=(10,5))\n",
        "plt.subplot(1,2,1)\n",
        "plt.title('Training Loss One Layer')\n",
        "plt.plot(range(epochs), train.history['loss'], label='train')\n",
        "plt.plot(range(epochs), train.history['val_loss'], label='validation')\n",
        "plt.xlabel('epochs')\n",
        "plt.ylabel('MSE')\n",
        "plt.legend()\n",
        "plt.subplot(1,2,2)\n",
        "plt.title('Training Loss Two Layers')\n",
        "plt.plot(range(epochs), train2.history['loss'], label='train')\n",
        "plt.plot(range(epochs), train2.history['val_loss'], label='validation')\n",
        "plt.xlabel('epochs')\n",
        "plt.ylabel('MSE')\n",
        "plt.legend()\n",
        "plt.show()"
      ],
      "metadata": {
        "colab": {
          "base_uri": "https://localhost:8080/",
          "height": 350
        },
        "id": "94gX2llhK_50",
        "outputId": "f9a25c83-73f9-4de4-d517-e0d751e8ae58"
      },
      "execution_count": 28,
      "outputs": [
        {
          "output_type": "display_data",
          "data": {
            "text/plain": [
              "<Figure size 720x360 with 2 Axes>"
            ],
            "image/png": "[encoded data removed]"
          },
          "metadata": {
            "needs_background": "light"
          }
        }
      ]
    },
    {
      "cell_type": "code",
      "source": [],
      "metadata": {
        "id": "8p91nObRMIOh"
      },
      "execution_count": 13,
      "outputs": []
    }
  ]
}