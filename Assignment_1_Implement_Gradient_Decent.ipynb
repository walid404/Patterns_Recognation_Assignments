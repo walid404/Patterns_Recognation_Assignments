{
  "nbformat": 4,
  "nbformat_minor": 0,
  "metadata": {
    "colab": {
      "provenance": []
    },
    "kernelspec": {
      "name": "python3",
      "display_name": "Python 3"
    },
    "language_info": {
      "name": "python"
    },
    "gpuClass": "standard"
  },
  "cells": [
    {
      "cell_type": "markdown",
      "source": [
        "### Pattern Recognation Assignment1\n",
        "\n",
        "\n",
        "### Implement Gradient Decent"
      ],
      "metadata": {
        "id": "R4xVyBTnnGUf"
      }
    },
    {
      "cell_type": "markdown",
      "source": [
        "##### y = (x - 1)^2"
      ],
      "metadata": {
        "id": "9-KLp-zDnn1Y"
      }
    },
    {
      "cell_type": "code",
      "source": [
        "def g(x):\n",
        "  return 2*(x - 1)"
      ],
      "metadata": {
        "id": "4gZH568iSPC5"
      },
      "execution_count": 8,
      "outputs": []
    },
    {
      "cell_type": "code",
      "source": [
        "def gradient_decent(epochs, lr):\n",
        "  x, x_new = 5, 0\n",
        "  for i in range(epochs):\n",
        "    x_new = x - lr*g(x)\n",
        "    if abs(x - x_new) < 0.00001:\n",
        "      return x_new\n",
        "    else:\n",
        "      x = x_new\n",
        "      \n",
        "  return x"
      ],
      "metadata": {
        "id": "ONCu7BENqZ2N"
      },
      "execution_count": 11,
      "outputs": []
    },
    {
      "cell_type": "code",
      "source": [
        "epochs = 50000\n",
        "lr = 0.001\n",
        "x = gradient_decent(epochs, lr)\n",
        "print(x)\n"
      ],
      "metadata": {
        "colab": {
          "base_uri": "https://localhost:8080/"
        },
        "id": "X76A0o6wThOM",
        "outputId": "10631997-412a-43ae-cc99-ba57033e18b0"
      },
      "execution_count": 12,
      "outputs": [
        {
          "output_type": "stream",
          "name": "stdout",
          "text": [
            "1.0049896248174528\n"
          ]
        }
      ]
    },
    {
      "cell_type": "code",
      "source": [],
      "metadata": {
        "id": "YJE9ANYCp2GL"
      },
      "execution_count": null,
      "outputs": []
    }
  ]
}