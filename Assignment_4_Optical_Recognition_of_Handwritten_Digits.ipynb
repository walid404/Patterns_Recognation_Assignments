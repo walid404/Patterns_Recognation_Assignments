{
  "nbformat": 4,
  "nbformat_minor": 0,
  "metadata": {
    "colab": {
      "provenance": []
    },
    "kernelspec": {
      "name": "python3",
      "display_name": "Python 3"
    },
    "language_info": {
      "name": "python"
    }
  },
  "cells": [
    {
      "cell_type": "markdown",
      "source": [
        "# Pattern Recognition Assignment 4"
      ],
      "metadata": {
        "id": "6s5Ij_1-7JRY"
      }
    },
    {
      "cell_type": "markdown",
      "source": [
        "## Optical Recognition of Handwritten Digits"
      ],
      "metadata": {
        "id": "VNRIFxYZ7JJz"
      }
    },
    {
      "cell_type": "markdown",
      "source": [
        "### Import Important Packages"
      ],
      "metadata": {
        "id": "y0i21EKA7I3n"
      }
    },
    {
      "cell_type": "code",
      "execution_count": 1,
      "metadata": {
        "id": "p5qhrGVO3Muy"
      },
      "outputs": [],
      "source": [
        "import pandas as pd\n",
        "import numpy as np\n",
        "import matplotlib.pyplot as plt\n",
        "import seaborn as sns\n",
        "import tensorflow as tf\n",
        "from tensorflow.keras.models import Sequential\n",
        "from tensorflow.keras.layers import Dense\n",
        "from sklearn.preprocessing import StandardScaler"
      ]
    },
    {
      "cell_type": "markdown",
      "source": [
        "### Load Data"
      ],
      "metadata": {
        "id": "0JH04cnl7jOE"
      }
    },
    {
      "cell_type": "code",
      "source": [
        "train_data = pd.read_csv('https://archive.ics.uci.edu/ml/machine-learning-databases/optdigits/optdigits.tra', header=None)\n",
        "test_data = pd.read_csv('https://archive.ics.uci.edu/ml/machine-learning-databases/optdigits/optdigits.tes', header=None)"
      ],
      "metadata": {
        "id": "NY3Qwc4q3t9K"
      },
      "execution_count": 2,
      "outputs": []
    },
    {
      "cell_type": "code",
      "source": [
        "train_data.head()"
      ],
      "metadata": {
        "colab": {
          "base_uri": "https://localhost:8080/",
          "height": 235
        },
        "id": "nJXps_xK3zti",
        "outputId": "139448b3-a641-47fa-cb0b-2fd8d095d8b7"
      },
      "execution_count": 3,
      "outputs": [
        {
          "output_type": "execute_result",
          "data": {
            "text/plain": [
              "   0   1   2   3   4   5   6   7   8   9   ...  55  56  57  58  59  60  61  \\\n",
              "0   0   1   6  15  12   1   0   0   0   7  ...   0   0   0   6  14   7   1   \n",
              "1   0   0  10  16   6   0   0   0   0   7  ...   0   0   0  10  16  15   3   \n",
              "2   0   0   8  15  16  13   0   0   0   1  ...   0   0   0   9  14   0   0   \n",
              "3   0   0   0   3  11  16   0   0   0   0  ...   0   0   0   0   1  15   2   \n",
              "4   0   0   5  14   4   0   0   0   0   0  ...   0   0   0   4  12  14   7   \n",
              "\n",
              "   62  63  64  \n",
              "0   0   0   0  \n",
              "1   0   0   0  \n",
              "2   0   0   7  \n",
              "3   0   0   4  \n",
              "4   0   0   6  \n",
              "\n",
              "[5 rows x 65 columns]"
            ],
            "text/html": [
              "\n",
              "  <div id=\"df-bc8ab041-0ef1-4c52-8253-35fded4453c9\">\n",
              "    <div class=\"colab-df-container\">\n",
              "      <div>\n",
              "<style scoped>\n",
              "    .dataframe tbody tr th:only-of-type {\n",
              "        vertical-align: middle;\n",
              "    }\n",
              "\n",
              "    .dataframe tbody tr th {\n",
              "        vertical-align: top;\n",
              "    }\n",
              "\n",
              "    .dataframe thead th {\n",
              "        text-align: right;\n",
              "    }\n",
              "</style>\n",
              "<table border=\"1\" class=\"dataframe\">\n",
              "  <thead>\n",
              "    <tr style=\"text-align: right;\">\n",
              "      <th></th>\n",
              "      <th>0</th>\n",
              "      <th>1</th>\n",
              "      <th>2</th>\n",
              "      <th>3</th>\n",
              "      <th>4</th>\n",
              "      <th>5</th>\n",
              "      <th>6</th>\n",
              "      <th>7</th>\n",
              "      <th>8</th>\n",
              "      <th>9</th>\n",
              "      <th>...</th>\n",
              "      <th>55</th>\n",
              "      <th>56</th>\n",
              "      <th>57</th>\n",
              "      <th>58</th>\n",
              "      <th>59</th>\n",
              "      <th>60</th>\n",
              "      <th>61</th>\n",
              "      <th>62</th>\n",
              "      <th>63</th>\n",
              "      <th>64</th>\n",
              "    </tr>\n",
              "  </thead>\n",
              "  <tbody>\n",
              "    <tr>\n",
              "      <th>0</th>\n",
              "      <td>0</td>\n",
              "      <td>1</td>\n",
              "      <td>6</td>\n",
              "      <td>15</td>\n",
              "      <td>12</td>\n",
              "      <td>1</td>\n",
              "      <td>0</td>\n",
              "      <td>0</td>\n",
              "      <td>0</td>\n",
              "      <td>7</td>\n",
              "      <td>...</td>\n",
              "      <td>0</td>\n",
              "      <td>0</td>\n",
              "      <td>0</td>\n",
              "      <td>6</td>\n",
              "      <td>14</td>\n",
              "      <td>7</td>\n",
              "      <td>1</td>\n",
              "      <td>0</td>\n",
              "      <td>0</td>\n",
              "      <td>0</td>\n",
              "    </tr>\n",
              "    <tr>\n",
              "      <th>1</th>\n",
              "      <td>0</td>\n",
              "      <td>0</td>\n",
              "      <td>10</td>\n",
              "      <td>16</td>\n",
              "      <td>6</td>\n",
              "      <td>0</td>\n",
              "      <td>0</td>\n",
              "      <td>0</td>\n",
              "      <td>0</td>\n",
              "      <td>7</td>\n",
              "      <td>...</td>\n",
              "      <td>0</td>\n",
              "      <td>0</td>\n",
              "      <td>0</td>\n",
              "      <td>10</td>\n",
              "      <td>16</td>\n",
              "      <td>15</td>\n",
              "      <td>3</td>\n",
              "      <td>0</td>\n",
              "      <td>0</td>\n",
              "      <td>0</td>\n",
              "    </tr>\n",
              "    <tr>\n",
              "      <th>2</th>\n",
              "      <td>0</td>\n",
              "      <td>0</td>\n",
              "      <td>8</td>\n",
              "      <td>15</td>\n",
              "      <td>16</td>\n",
              "      <td>13</td>\n",
              "      <td>0</td>\n",
              "      <td>0</td>\n",
              "      <td>0</td>\n",
              "      <td>1</td>\n",
              "      <td>...</td>\n",
              "      <td>0</td>\n",
              "      <td>0</td>\n",
              "      <td>0</td>\n",
              "      <td>9</td>\n",
              "      <td>14</td>\n",
              "      <td>0</td>\n",
              "      <td>0</td>\n",
              "      <td>0</td>\n",
              "      <td>0</td>\n",
              "      <td>7</td>\n",
              "    </tr>\n",
              "    <tr>\n",
              "      <th>3</th>\n",
              "      <td>0</td>\n",
              "      <td>0</td>\n",
              "      <td>0</td>\n",
              "      <td>3</td>\n",
              "      <td>11</td>\n",
              "      <td>16</td>\n",
              "      <td>0</td>\n",
              "      <td>0</td>\n",
              "      <td>0</td>\n",
              "      <td>0</td>\n",
              "      <td>...</td>\n",
              "      <td>0</td>\n",
              "      <td>0</td>\n",
              "      <td>0</td>\n",
              "      <td>0</td>\n",
              "      <td>1</td>\n",
              "      <td>15</td>\n",
              "      <td>2</td>\n",
              "      <td>0</td>\n",
              "      <td>0</td>\n",
              "      <td>4</td>\n",
              "    </tr>\n",
              "    <tr>\n",
              "      <th>4</th>\n",
              "      <td>0</td>\n",
              "      <td>0</td>\n",
              "      <td>5</td>\n",
              "      <td>14</td>\n",
              "      <td>4</td>\n",
              "      <td>0</td>\n",
              "      <td>0</td>\n",
              "      <td>0</td>\n",
              "      <td>0</td>\n",
              "      <td>0</td>\n",
              "      <td>...</td>\n",
              "      <td>0</td>\n",
              "      <td>0</td>\n",
              "      <td>0</td>\n",
              "      <td>4</td>\n",
              "      <td>12</td>\n",
              "      <td>14</td>\n",
              "      <td>7</td>\n",
              "      <td>0</td>\n",
              "      <td>0</td>\n",
              "      <td>6</td>\n",
              "    </tr>\n",
              "  </tbody>\n",
              "</table>\n",
              "<p>5 rows × 65 columns</p>\n",
              "</div>\n",
              "      <button class=\"colab-df-convert\" onclick=\"convertToInteractive('df-bc8ab041-0ef1-4c52-8253-35fded4453c9')\"\n",
              "              title=\"Convert this dataframe to an interactive table.\"\n",
              "              style=\"display:none;\">\n",
              "        \n",
              "  <svg xmlns=\"http://www.w3.org/2000/svg\" height=\"24px\"viewBox=\"0 0 24 24\"\n",
              "       width=\"24px\">\n",
              "    <path d=\"M0 0h24v24H0V0z\" fill=\"none\"/>\n",
              "    <path d=\"M18.56 5.44l.94 2.06.94-2.06 2.06-.94-2.06-.94-.94-2.06-.94 2.06-2.06.94zm-11 1L8.5 8.5l.94-2.06 2.06-.94-2.06-.94L8.5 2.5l-.94 2.06-2.06.94zm10 10l.94 2.06.94-2.06 2.06-.94-2.06-.94-.94-2.06-.94 2.06-2.06.94z\"/><path d=\"M17.41 7.96l-1.37-1.37c-.4-.4-.92-.59-1.43-.59-.52 0-1.04.2-1.43.59L10.3 9.45l-7.72 7.72c-.78.78-.78 2.05 0 2.83L4 21.41c.39.39.9.59 1.41.59.51 0 1.02-.2 1.41-.59l7.78-7.78 2.81-2.81c.8-.78.8-2.07 0-2.86zM5.41 20L4 18.59l7.72-7.72 1.47 1.35L5.41 20z\"/>\n",
              "  </svg>\n",
              "      </button>\n",
              "      \n",
              "  <style>\n",
              "    .colab-df-container {\n",
              "      display:flex;\n",
              "      flex-wrap:wrap;\n",
              "      gap: 12px;\n",
              "    }\n",
              "\n",
              "    .colab-df-convert {\n",
              "      background-color: #E8F0FE;\n",
              "      border: none;\n",
              "      border-radius: 50%;\n",
              "      cursor: pointer;\n",
              "      display: none;\n",
              "      fill: #1967D2;\n",
              "      height: 32px;\n",
              "      padding: 0 0 0 0;\n",
              "      width: 32px;\n",
              "    }\n",
              "\n",
              "    .colab-df-convert:hover {\n",
              "      background-color: #E2EBFA;\n",
              "      box-shadow: 0px 1px 2px rgba(60, 64, 67, 0.3), 0px 1px 3px 1px rgba(60, 64, 67, 0.15);\n",
              "      fill: #174EA6;\n",
              "    }\n",
              "\n",
              "    [theme=dark] .colab-df-convert {\n",
              "      background-color: #3B4455;\n",
              "      fill: #D2E3FC;\n",
              "    }\n",
              "\n",
              "    [theme=dark] .colab-df-convert:hover {\n",
              "      background-color: #434B5C;\n",
              "      box-shadow: 0px 1px 3px 1px rgba(0, 0, 0, 0.15);\n",
              "      filter: drop-shadow(0px 1px 2px rgba(0, 0, 0, 0.3));\n",
              "      fill: #FFFFFF;\n",
              "    }\n",
              "  </style>\n",
              "\n",
              "      <script>\n",
              "        const buttonEl =\n",
              "          document.querySelector('#df-bc8ab041-0ef1-4c52-8253-35fded4453c9 button.colab-df-convert');\n",
              "        buttonEl.style.display =\n",
              "          google.colab.kernel.accessAllowed ? 'block' : 'none';\n",
              "\n",
              "        async function convertToInteractive(key) {\n",
              "          const element = document.querySelector('#df-bc8ab041-0ef1-4c52-8253-35fded4453c9');\n",
              "          const dataTable =\n",
              "            await google.colab.kernel.invokeFunction('convertToInteractive',\n",
              "                                                     [key], {});\n",
              "          if (!dataTable) return;\n",
              "\n",
              "          const docLinkHtml = 'Like what you see? Visit the ' +\n",
              "            '<a target=\"_blank\" href=https://colab.research.google.com/notebooks/data_table.ipynb>data table notebook</a>'\n",
              "            + ' to learn more about interactive tables.';\n",
              "          element.innerHTML = '';\n",
              "          dataTable['output_type'] = 'display_data';\n",
              "          await google.colab.output.renderOutput(dataTable, element);\n",
              "          const docLink = document.createElement('div');\n",
              "          docLink.innerHTML = docLinkHtml;\n",
              "          element.appendChild(docLink);\n",
              "        }\n",
              "      </script>\n",
              "    </div>\n",
              "  </div>\n",
              "  "
            ]
          },
          "metadata": {},
          "execution_count": 3
        }
      ]
    },
    {
      "cell_type": "markdown",
      "source": [
        "### Split Features From Targets"
      ],
      "metadata": {
        "id": "7ccLuuyH8bB7"
      }
    },
    {
      "cell_type": "code",
      "source": [
        "X_train = train_data.drop(64, axis=1)\n",
        "y_train = train_data[64]\n",
        "X_test = test_data.drop(64, axis=1)\n",
        "y_test = test_data[64]\n",
        "X_train.head()"
      ],
      "metadata": {
        "colab": {
          "base_uri": "https://localhost:8080/",
          "height": 235
        },
        "id": "LZpiBFX-8aoj",
        "outputId": "b002927b-f3ee-4eca-e2a4-39030b3e6c42"
      },
      "execution_count": 4,
      "outputs": [
        {
          "output_type": "execute_result",
          "data": {
            "text/plain": [
              "   0   1   2   3   4   5   6   7   8   9   ...  54  55  56  57  58  59  60  \\\n",
              "0   0   1   6  15  12   1   0   0   0   7  ...   0   0   0   0   6  14   7   \n",
              "1   0   0  10  16   6   0   0   0   0   7  ...   3   0   0   0  10  16  15   \n",
              "2   0   0   8  15  16  13   0   0   0   1  ...   0   0   0   0   9  14   0   \n",
              "3   0   0   0   3  11  16   0   0   0   0  ...   0   0   0   0   0   1  15   \n",
              "4   0   0   5  14   4   0   0   0   0   0  ...  12   0   0   0   4  12  14   \n",
              "\n",
              "   61  62  63  \n",
              "0   1   0   0  \n",
              "1   3   0   0  \n",
              "2   0   0   0  \n",
              "3   2   0   0  \n",
              "4   7   0   0  \n",
              "\n",
              "[5 rows x 64 columns]"
            ],
            "text/html": [
              "\n",
              "  <div id=\"df-6dc357c8-54a7-4f16-ba3c-d3e8c7de8a38\">\n",
              "    <div class=\"colab-df-container\">\n",
              "      <div>\n",
              "<style scoped>\n",
              "    .dataframe tbody tr th:only-of-type {\n",
              "        vertical-align: middle;\n",
              "    }\n",
              "\n",
              "    .dataframe tbody tr th {\n",
              "        vertical-align: top;\n",
              "    }\n",
              "\n",
              "    .dataframe thead th {\n",
              "        text-align: right;\n",
              "    }\n",
              "</style>\n",
              "<table border=\"1\" class=\"dataframe\">\n",
              "  <thead>\n",
              "    <tr style=\"text-align: right;\">\n",
              "      <th></th>\n",
              "      <th>0</th>\n",
              "      <th>1</th>\n",
              "      <th>2</th>\n",
              "      <th>3</th>\n",
              "      <th>4</th>\n",
              "      <th>5</th>\n",
              "      <th>6</th>\n",
              "      <th>7</th>\n",
              "      <th>8</th>\n",
              "      <th>9</th>\n",
              "      <th>...</th>\n",
              "      <th>54</th>\n",
              "      <th>55</th>\n",
              "      <th>56</th>\n",
              "      <th>57</th>\n",
              "      <th>58</th>\n",
              "      <th>59</th>\n",
              "      <th>60</th>\n",
              "      <th>61</th>\n",
              "      <th>62</th>\n",
              "      <th>63</th>\n",
              "    </tr>\n",
              "  </thead>\n",
              "  <tbody>\n",
              "    <tr>\n",
              "      <th>0</th>\n",
              "      <td>0</td>\n",
              "      <td>1</td>\n",
              "      <td>6</td>\n",
              "      <td>15</td>\n",
              "      <td>12</td>\n",
              "      <td>1</td>\n",
              "      <td>0</td>\n",
              "      <td>0</td>\n",
              "      <td>0</td>\n",
              "      <td>7</td>\n",
              "      <td>...</td>\n",
              "      <td>0</td>\n",
              "      <td>0</td>\n",
              "      <td>0</td>\n",
              "      <td>0</td>\n",
              "      <td>6</td>\n",
              "      <td>14</td>\n",
              "      <td>7</td>\n",
              "      <td>1</td>\n",
              "      <td>0</td>\n",
              "      <td>0</td>\n",
              "    </tr>\n",
              "    <tr>\n",
              "      <th>1</th>\n",
              "      <td>0</td>\n",
              "      <td>0</td>\n",
              "      <td>10</td>\n",
              "      <td>16</td>\n",
              "      <td>6</td>\n",
              "      <td>0</td>\n",
              "      <td>0</td>\n",
              "      <td>0</td>\n",
              "      <td>0</td>\n",
              "      <td>7</td>\n",
              "      <td>...</td>\n",
              "      <td>3</td>\n",
              "      <td>0</td>\n",
              "      <td>0</td>\n",
              "      <td>0</td>\n",
              "      <td>10</td>\n",
              "      <td>16</td>\n",
              "      <td>15</td>\n",
              "      <td>3</td>\n",
              "      <td>0</td>\n",
              "      <td>0</td>\n",
              "    </tr>\n",
              "    <tr>\n",
              "      <th>2</th>\n",
              "      <td>0</td>\n",
              "      <td>0</td>\n",
              "      <td>8</td>\n",
              "      <td>15</td>\n",
              "      <td>16</td>\n",
              "      <td>13</td>\n",
              "      <td>0</td>\n",
              "      <td>0</td>\n",
              "      <td>0</td>\n",
              "      <td>1</td>\n",
              "      <td>...</td>\n",
              "      <td>0</td>\n",
              "      <td>0</td>\n",
              "      <td>0</td>\n",
              "      <td>0</td>\n",
              "      <td>9</td>\n",
              "      <td>14</td>\n",
              "      <td>0</td>\n",
              "      <td>0</td>\n",
              "      <td>0</td>\n",
              "      <td>0</td>\n",
              "    </tr>\n",
              "    <tr>\n",
              "      <th>3</th>\n",
              "      <td>0</td>\n",
              "      <td>0</td>\n",
              "      <td>0</td>\n",
              "      <td>3</td>\n",
              "      <td>11</td>\n",
              "      <td>16</td>\n",
              "      <td>0</td>\n",
              "      <td>0</td>\n",
              "      <td>0</td>\n",
              "      <td>0</td>\n",
              "      <td>...</td>\n",
              "      <td>0</td>\n",
              "      <td>0</td>\n",
              "      <td>0</td>\n",
              "      <td>0</td>\n",
              "      <td>0</td>\n",
              "      <td>1</td>\n",
              "      <td>15</td>\n",
              "      <td>2</td>\n",
              "      <td>0</td>\n",
              "      <td>0</td>\n",
              "    </tr>\n",
              "    <tr>\n",
              "      <th>4</th>\n",
              "      <td>0</td>\n",
              "      <td>0</td>\n",
              "      <td>5</td>\n",
              "      <td>14</td>\n",
              "      <td>4</td>\n",
              "      <td>0</td>\n",
              "      <td>0</td>\n",
              "      <td>0</td>\n",
              "      <td>0</td>\n",
              "      <td>0</td>\n",
              "      <td>...</td>\n",
              "      <td>12</td>\n",
              "      <td>0</td>\n",
              "      <td>0</td>\n",
              "      <td>0</td>\n",
              "      <td>4</td>\n",
              "      <td>12</td>\n",
              "      <td>14</td>\n",
              "      <td>7</td>\n",
              "      <td>0</td>\n",
              "      <td>0</td>\n",
              "    </tr>\n",
              "  </tbody>\n",
              "</table>\n",
              "<p>5 rows × 64 columns</p>\n",
              "</div>\n",
              "      <button class=\"colab-df-convert\" onclick=\"convertToInteractive('df-6dc357c8-54a7-4f16-ba3c-d3e8c7de8a38')\"\n",
              "              title=\"Convert this dataframe to an interactive table.\"\n",
              "              style=\"display:none;\">\n",
              "        \n",
              "  <svg xmlns=\"http://www.w3.org/2000/svg\" height=\"24px\"viewBox=\"0 0 24 24\"\n",
              "       width=\"24px\">\n",
              "    <path d=\"M0 0h24v24H0V0z\" fill=\"none\"/>\n",
              "    <path d=\"M18.56 5.44l.94 2.06.94-2.06 2.06-.94-2.06-.94-.94-2.06-.94 2.06-2.06.94zm-11 1L8.5 8.5l.94-2.06 2.06-.94-2.06-.94L8.5 2.5l-.94 2.06-2.06.94zm10 10l.94 2.06.94-2.06 2.06-.94-2.06-.94-.94-2.06-.94 2.06-2.06.94z\"/><path d=\"M17.41 7.96l-1.37-1.37c-.4-.4-.92-.59-1.43-.59-.52 0-1.04.2-1.43.59L10.3 9.45l-7.72 7.72c-.78.78-.78 2.05 0 2.83L4 21.41c.39.39.9.59 1.41.59.51 0 1.02-.2 1.41-.59l7.78-7.78 2.81-2.81c.8-.78.8-2.07 0-2.86zM5.41 20L4 18.59l7.72-7.72 1.47 1.35L5.41 20z\"/>\n",
              "  </svg>\n",
              "      </button>\n",
              "      \n",
              "  <style>\n",
              "    .colab-df-container {\n",
              "      display:flex;\n",
              "      flex-wrap:wrap;\n",
              "      gap: 12px;\n",
              "    }\n",
              "\n",
              "    .colab-df-convert {\n",
              "      background-color: #E8F0FE;\n",
              "      border: none;\n",
              "      border-radius: 50%;\n",
              "      cursor: pointer;\n",
              "      display: none;\n",
              "      fill: #1967D2;\n",
              "      height: 32px;\n",
              "      padding: 0 0 0 0;\n",
              "      width: 32px;\n",
              "    }\n",
              "\n",
              "    .colab-df-convert:hover {\n",
              "      background-color: #E2EBFA;\n",
              "      box-shadow: 0px 1px 2px rgba(60, 64, 67, 0.3), 0px 1px 3px 1px rgba(60, 64, 67, 0.15);\n",
              "      fill: #174EA6;\n",
              "    }\n",
              "\n",
              "    [theme=dark] .colab-df-convert {\n",
              "      background-color: #3B4455;\n",
              "      fill: #D2E3FC;\n",
              "    }\n",
              "\n",
              "    [theme=dark] .colab-df-convert:hover {\n",
              "      background-color: #434B5C;\n",
              "      box-shadow: 0px 1px 3px 1px rgba(0, 0, 0, 0.15);\n",
              "      filter: drop-shadow(0px 1px 2px rgba(0, 0, 0, 0.3));\n",
              "      fill: #FFFFFF;\n",
              "    }\n",
              "  </style>\n",
              "\n",
              "      <script>\n",
              "        const buttonEl =\n",
              "          document.querySelector('#df-6dc357c8-54a7-4f16-ba3c-d3e8c7de8a38 button.colab-df-convert');\n",
              "        buttonEl.style.display =\n",
              "          google.colab.kernel.accessAllowed ? 'block' : 'none';\n",
              "\n",
              "        async function convertToInteractive(key) {\n",
              "          const element = document.querySelector('#df-6dc357c8-54a7-4f16-ba3c-d3e8c7de8a38');\n",
              "          const dataTable =\n",
              "            await google.colab.kernel.invokeFunction('convertToInteractive',\n",
              "                                                     [key], {});\n",
              "          if (!dataTable) return;\n",
              "\n",
              "          const docLinkHtml = 'Like what you see? Visit the ' +\n",
              "            '<a target=\"_blank\" href=https://colab.research.google.com/notebooks/data_table.ipynb>data table notebook</a>'\n",
              "            + ' to learn more about interactive tables.';\n",
              "          element.innerHTML = '';\n",
              "          dataTable['output_type'] = 'display_data';\n",
              "          await google.colab.output.renderOutput(dataTable, element);\n",
              "          const docLink = document.createElement('div');\n",
              "          docLink.innerHTML = docLinkHtml;\n",
              "          element.appendChild(docLink);\n",
              "        }\n",
              "      </script>\n",
              "    </div>\n",
              "  </div>\n",
              "  "
            ]
          },
          "metadata": {},
          "execution_count": 4
        }
      ]
    },
    {
      "cell_type": "code",
      "source": [
        "y_train.head()"
      ],
      "metadata": {
        "colab": {
          "base_uri": "https://localhost:8080/"
        },
        "id": "39r8CG_H9Wkg",
        "outputId": "de53ae44-16fc-496d-99a3-a553a3a380ac"
      },
      "execution_count": 5,
      "outputs": [
        {
          "output_type": "execute_result",
          "data": {
            "text/plain": [
              "0    0\n",
              "1    0\n",
              "2    7\n",
              "3    4\n",
              "4    6\n",
              "Name: 64, dtype: int64"
            ]
          },
          "metadata": {},
          "execution_count": 5
        }
      ]
    },
    {
      "cell_type": "markdown",
      "source": [
        "### Show some Data Statistics"
      ],
      "metadata": {
        "id": "g6jVZopu7puI"
      }
    },
    {
      "cell_type": "code",
      "source": [
        "train_data.info()"
      ],
      "metadata": {
        "colab": {
          "base_uri": "https://localhost:8080/"
        },
        "id": "Dqij9Sag4xb3",
        "outputId": "d8515cd5-c137-49a1-a763-05a35a98ffce"
      },
      "execution_count": 6,
      "outputs": [
        {
          "output_type": "stream",
          "name": "stdout",
          "text": [
            "<class 'pandas.core.frame.DataFrame'>\n",
            "RangeIndex: 3823 entries, 0 to 3822\n",
            "Data columns (total 65 columns):\n",
            " #   Column  Non-Null Count  Dtype\n",
            "---  ------  --------------  -----\n",
            " 0   0       3823 non-null   int64\n",
            " 1   1       3823 non-null   int64\n",
            " 2   2       3823 non-null   int64\n",
            " 3   3       3823 non-null   int64\n",
            " 4   4       3823 non-null   int64\n",
            " 5   5       3823 non-null   int64\n",
            " 6   6       3823 non-null   int64\n",
            " 7   7       3823 non-null   int64\n",
            " 8   8       3823 non-null   int64\n",
            " 9   9       3823 non-null   int64\n",
            " 10  10      3823 non-null   int64\n",
            " 11  11      3823 non-null   int64\n",
            " 12  12      3823 non-null   int64\n",
            " 13  13      3823 non-null   int64\n",
            " 14  14      3823 non-null   int64\n",
            " 15  15      3823 non-null   int64\n",
            " 16  16      3823 non-null   int64\n",
            " 17  17      3823 non-null   int64\n",
            " 18  18      3823 non-null   int64\n",
            " 19  19      3823 non-null   int64\n",
            " 20  20      3823 non-null   int64\n",
            " 21  21      3823 non-null   int64\n",
            " 22  22      3823 non-null   int64\n",
            " 23  23      3823 non-null   int64\n",
            " 24  24      3823 non-null   int64\n",
            " 25  25      3823 non-null   int64\n",
            " 26  26      3823 non-null   int64\n",
            " 27  27      3823 non-null   int64\n",
            " 28  28      3823 non-null   int64\n",
            " 29  29      3823 non-null   int64\n",
            " 30  30      3823 non-null   int64\n",
            " 31  31      3823 non-null   int64\n",
            " 32  32      3823 non-null   int64\n",
            " 33  33      3823 non-null   int64\n",
            " 34  34      3823 non-null   int64\n",
            " 35  35      3823 non-null   int64\n",
            " 36  36      3823 non-null   int64\n",
            " 37  37      3823 non-null   int64\n",
            " 38  38      3823 non-null   int64\n",
            " 39  39      3823 non-null   int64\n",
            " 40  40      3823 non-null   int64\n",
            " 41  41      3823 non-null   int64\n",
            " 42  42      3823 non-null   int64\n",
            " 43  43      3823 non-null   int64\n",
            " 44  44      3823 non-null   int64\n",
            " 45  45      3823 non-null   int64\n",
            " 46  46      3823 non-null   int64\n",
            " 47  47      3823 non-null   int64\n",
            " 48  48      3823 non-null   int64\n",
            " 49  49      3823 non-null   int64\n",
            " 50  50      3823 non-null   int64\n",
            " 51  51      3823 non-null   int64\n",
            " 52  52      3823 non-null   int64\n",
            " 53  53      3823 non-null   int64\n",
            " 54  54      3823 non-null   int64\n",
            " 55  55      3823 non-null   int64\n",
            " 56  56      3823 non-null   int64\n",
            " 57  57      3823 non-null   int64\n",
            " 58  58      3823 non-null   int64\n",
            " 59  59      3823 non-null   int64\n",
            " 60  60      3823 non-null   int64\n",
            " 61  61      3823 non-null   int64\n",
            " 62  62      3823 non-null   int64\n",
            " 63  63      3823 non-null   int64\n",
            " 64  64      3823 non-null   int64\n",
            "dtypes: int64(65)\n",
            "memory usage: 1.9 MB\n"
          ]
        }
      ]
    },
    {
      "cell_type": "code",
      "source": [
        "test_data.info()"
      ],
      "metadata": {
        "colab": {
          "base_uri": "https://localhost:8080/"
        },
        "id": "Os2xvh6M7zCr",
        "outputId": "00b3dbe9-b63b-46db-e1bf-a54492978aee"
      },
      "execution_count": 7,
      "outputs": [
        {
          "output_type": "stream",
          "name": "stdout",
          "text": [
            "<class 'pandas.core.frame.DataFrame'>\n",
            "RangeIndex: 1797 entries, 0 to 1796\n",
            "Data columns (total 65 columns):\n",
            " #   Column  Non-Null Count  Dtype\n",
            "---  ------  --------------  -----\n",
            " 0   0       1797 non-null   int64\n",
            " 1   1       1797 non-null   int64\n",
            " 2   2       1797 non-null   int64\n",
            " 3   3       1797 non-null   int64\n",
            " 4   4       1797 non-null   int64\n",
            " 5   5       1797 non-null   int64\n",
            " 6   6       1797 non-null   int64\n",
            " 7   7       1797 non-null   int64\n",
            " 8   8       1797 non-null   int64\n",
            " 9   9       1797 non-null   int64\n",
            " 10  10      1797 non-null   int64\n",
            " 11  11      1797 non-null   int64\n",
            " 12  12      1797 non-null   int64\n",
            " 13  13      1797 non-null   int64\n",
            " 14  14      1797 non-null   int64\n",
            " 15  15      1797 non-null   int64\n",
            " 16  16      1797 non-null   int64\n",
            " 17  17      1797 non-null   int64\n",
            " 18  18      1797 non-null   int64\n",
            " 19  19      1797 non-null   int64\n",
            " 20  20      1797 non-null   int64\n",
            " 21  21      1797 non-null   int64\n",
            " 22  22      1797 non-null   int64\n",
            " 23  23      1797 non-null   int64\n",
            " 24  24      1797 non-null   int64\n",
            " 25  25      1797 non-null   int64\n",
            " 26  26      1797 non-null   int64\n",
            " 27  27      1797 non-null   int64\n",
            " 28  28      1797 non-null   int64\n",
            " 29  29      1797 non-null   int64\n",
            " 30  30      1797 non-null   int64\n",
            " 31  31      1797 non-null   int64\n",
            " 32  32      1797 non-null   int64\n",
            " 33  33      1797 non-null   int64\n",
            " 34  34      1797 non-null   int64\n",
            " 35  35      1797 non-null   int64\n",
            " 36  36      1797 non-null   int64\n",
            " 37  37      1797 non-null   int64\n",
            " 38  38      1797 non-null   int64\n",
            " 39  39      1797 non-null   int64\n",
            " 40  40      1797 non-null   int64\n",
            " 41  41      1797 non-null   int64\n",
            " 42  42      1797 non-null   int64\n",
            " 43  43      1797 non-null   int64\n",
            " 44  44      1797 non-null   int64\n",
            " 45  45      1797 non-null   int64\n",
            " 46  46      1797 non-null   int64\n",
            " 47  47      1797 non-null   int64\n",
            " 48  48      1797 non-null   int64\n",
            " 49  49      1797 non-null   int64\n",
            " 50  50      1797 non-null   int64\n",
            " 51  51      1797 non-null   int64\n",
            " 52  52      1797 non-null   int64\n",
            " 53  53      1797 non-null   int64\n",
            " 54  54      1797 non-null   int64\n",
            " 55  55      1797 non-null   int64\n",
            " 56  56      1797 non-null   int64\n",
            " 57  57      1797 non-null   int64\n",
            " 58  58      1797 non-null   int64\n",
            " 59  59      1797 non-null   int64\n",
            " 60  60      1797 non-null   int64\n",
            " 61  61      1797 non-null   int64\n",
            " 62  62      1797 non-null   int64\n",
            " 63  63      1797 non-null   int64\n",
            " 64  64      1797 non-null   int64\n",
            "dtypes: int64(65)\n",
            "memory usage: 912.7 KB\n"
          ]
        }
      ]
    },
    {
      "cell_type": "code",
      "source": [
        "labels = sorted(y_train.unique())\n",
        "labels"
      ],
      "metadata": {
        "colab": {
          "base_uri": "https://localhost:8080/"
        },
        "id": "7vqjVRDm-XFK",
        "outputId": "37fa634a-4880-457b-e922-ce6a3ad88fe1"
      },
      "execution_count": 8,
      "outputs": [
        {
          "output_type": "execute_result",
          "data": {
            "text/plain": [
              "[0, 1, 2, 3, 4, 5, 6, 7, 8, 9]"
            ]
          },
          "metadata": {},
          "execution_count": 8
        }
      ]
    },
    {
      "cell_type": "code",
      "source": [
        "labels_values_count = y_train.value_counts()"
      ],
      "metadata": {
        "id": "xpGFG1tz77SO"
      },
      "execution_count": 9,
      "outputs": []
    },
    {
      "cell_type": "code",
      "source": [
        "plt.figure(figsize=(10,5))\n",
        "sns.countplot(y_train)\n",
        "for label in labels:\n",
        "  percentage = f'{100 * labels_values_count[label] / len(y_train):.2f}%'\n",
        "  plt.text(label, labels_values_count[label], str(percentage), ha='center', color='blue', fontsize=14)\n",
        "plt.show()"
      ],
      "metadata": {
        "colab": {
          "base_uri": "https://localhost:8080/",
          "height": 389
        },
        "id": "MRfMJuvD9lkY",
        "outputId": "9d321b99-1159-4d64-fb86-e4292095460d"
      },
      "execution_count": 10,
      "outputs": [
        {
          "output_type": "stream",
          "name": "stderr",
          "text": [
            "/usr/local/lib/python3.9/dist-packages/seaborn/_decorators.py:36: FutureWarning: Pass the following variable as a keyword arg: x. From version 0.12, the only valid positional argument will be `data`, and passing other arguments without an explicit keyword will result in an error or misinterpretation.\n",
            "  warnings.warn(\n"
          ]
        },
        {
          "output_type": "display_data",
          "data": {
            "text/plain": [
              "<Figure size 720x360 with 1 Axes>"
            ],
            "image/png": "[encoded data removed]"
          },
          "metadata": {
            "needs_background": "light"
          }
        }
      ]
    },
    {
      "cell_type": "markdown",
      "source": [
        "## Data Preprocessing"
      ],
      "metadata": {
        "id": "SREvPUij_f9V"
      }
    },
    {
      "cell_type": "markdown",
      "source": [
        "### Standardized The Data"
      ],
      "metadata": {
        "id": "O6XQT6-n_kIF"
      }
    },
    {
      "cell_type": "code",
      "source": [
        "scaler = StandardScaler()\n",
        "X_train_standard = scaler.fit_transform(X_train)\n",
        "X_test_standard = scaler.transform(X_test)\n",
        "X_train_standard"
      ],
      "metadata": {
        "colab": {
          "base_uri": "https://localhost:8080/"
        },
        "id": "DKnoq2HS90qX",
        "outputId": "98db3d7e-b5f9-4e95-b2f8-c37c8b9ca03e"
      },
      "execution_count": 11,
      "outputs": [
        {
          "output_type": "execute_result",
          "data": {
            "text/plain": [
              "array([[ 0.        ,  0.80596144,  0.11189377, ..., -0.98708887,\n",
              "        -0.52279362, -0.17574055],\n",
              "       [ 0.        , -0.34761048,  0.97563908, ..., -0.64077209,\n",
              "        -0.52279362, -0.17574055],\n",
              "       [ 0.        , -0.34761048,  0.54376642, ..., -1.16024725,\n",
              "        -0.52279362, -0.17574055],\n",
              "       ...,\n",
              "       [ 0.        , -0.34761048, -0.53591522, ...,  0.39817823,\n",
              "        -0.52279362, -0.17574055],\n",
              "       [ 0.        , -0.34761048,  0.11189377, ...,  1.61028695,\n",
              "         0.71859769, -0.17574055],\n",
              "       [ 0.        , -0.34761048, -0.75185155, ..., -1.16024725,\n",
              "        -0.52279362, -0.17574055]])"
            ]
          },
          "metadata": {},
          "execution_count": 11
        }
      ]
    },
    {
      "cell_type": "markdown",
      "source": [
        "### Build The Model"
      ],
      "metadata": {
        "id": "MfuDYAhxAZ4R"
      }
    },
    {
      "cell_type": "code",
      "source": [
        "optimizer = tf.keras.optimizers.Adam(0.001)\n",
        "loss = tf.keras.losses.sparse_categorical_crossentropy\n",
        "metrics = ['accuracy']\n",
        "epochs = 50\n",
        "batch_size = 32"
      ],
      "metadata": {
        "id": "fX5gmkxXBZL3"
      },
      "execution_count": 12,
      "outputs": []
    },
    {
      "cell_type": "code",
      "source": [
        "model = Sequential()\n",
        "model.add(Dense(len(labels), activation='softmax', input_shape=(64,)))\n",
        "model.compile(optimizer=optimizer, loss=loss, metrics=metrics)\n",
        "model.summary()"
      ],
      "metadata": {
        "colab": {
          "base_uri": "https://localhost:8080/"
        },
        "id": "kQaj21OcARGw",
        "outputId": "62bbe7d3-e4b7-4569-cf13-0b9cd77a64bd"
      },
      "execution_count": 13,
      "outputs": [
        {
          "output_type": "stream",
          "name": "stdout",
          "text": [
            "Model: \"sequential\"\n",
            "_________________________________________________________________\n",
            " Layer (type)                Output Shape              Param #   \n",
            "=================================================================\n",
            " dense (Dense)               (None, 10)                650       \n",
            "                                                                 \n",
            "=================================================================\n",
            "Total params: 650\n",
            "Trainable params: 650\n",
            "Non-trainable params: 0\n",
            "_________________________________________________________________\n"
          ]
        }
      ]
    },
    {
      "cell_type": "code",
      "source": [
        "history = model.fit(X_train_standard, y_train, batch_size=batch_size, epochs=epochs, validation_split=0.2)"
      ],
      "metadata": {
        "colab": {
          "base_uri": "https://localhost:8080/"
        },
        "id": "ffm6Ex6oBGI3",
        "outputId": "c9adb276-16b8-46d3-cf28-b2fca3487e23"
      },
      "execution_count": 14,
      "outputs": [
        {
          "output_type": "stream",
          "name": "stdout",
          "text": [
            "Epoch 1/50\n",
            "96/96 [==============================] - 2s 10ms/step - loss: 1.9329 - accuracy: 0.3568 - val_loss: 1.3984 - val_accuracy: 0.5948\n",
            "Epoch 2/50\n",
            "96/96 [==============================] - 0s 5ms/step - loss: 1.0711 - accuracy: 0.7175 - val_loss: 0.9071 - val_accuracy: 0.7725\n",
            "Epoch 3/50\n",
            "96/96 [==============================] - 1s 6ms/step - loss: 0.7143 - accuracy: 0.8375 - val_loss: 0.6840 - val_accuracy: 0.8418\n",
            "Epoch 4/50\n",
            "96/96 [==============================] - 1s 5ms/step - loss: 0.5345 - accuracy: 0.8846 - val_loss: 0.5602 - val_accuracy: 0.8771\n",
            "Epoch 5/50\n",
            "96/96 [==============================] - 0s 4ms/step - loss: 0.4301 - accuracy: 0.9081 - val_loss: 0.4815 - val_accuracy: 0.8902\n",
            "Epoch 6/50\n",
            "96/96 [==============================] - 1s 7ms/step - loss: 0.3626 - accuracy: 0.9235 - val_loss: 0.4262 - val_accuracy: 0.9046\n",
            "Epoch 7/50\n",
            "96/96 [==============================] - 1s 11ms/step - loss: 0.3151 - accuracy: 0.9330 - val_loss: 0.3871 - val_accuracy: 0.9124\n",
            "Epoch 8/50\n",
            "96/96 [==============================] - 1s 10ms/step - loss: 0.2800 - accuracy: 0.9415 - val_loss: 0.3557 - val_accuracy: 0.9216\n",
            "Epoch 9/50\n",
            "96/96 [==============================] - 1s 12ms/step - loss: 0.2535 - accuracy: 0.9460 - val_loss: 0.3323 - val_accuracy: 0.9242\n",
            "Epoch 10/50\n",
            "96/96 [==============================] - 1s 5ms/step - loss: 0.2326 - accuracy: 0.9490 - val_loss: 0.3126 - val_accuracy: 0.9307\n",
            "Epoch 11/50\n",
            "96/96 [==============================] - 0s 5ms/step - loss: 0.2156 - accuracy: 0.9529 - val_loss: 0.2965 - val_accuracy: 0.9346\n",
            "Epoch 12/50\n",
            "96/96 [==============================] - 1s 5ms/step - loss: 0.2013 - accuracy: 0.9559 - val_loss: 0.2830 - val_accuracy: 0.9373\n",
            "Epoch 13/50\n",
            "96/96 [==============================] - 1s 5ms/step - loss: 0.1894 - accuracy: 0.9568 - val_loss: 0.2723 - val_accuracy: 0.9386\n",
            "Epoch 14/50\n",
            "96/96 [==============================] - 1s 7ms/step - loss: 0.1790 - accuracy: 0.9585 - val_loss: 0.2625 - val_accuracy: 0.9451\n",
            "Epoch 15/50\n",
            "96/96 [==============================] - 1s 7ms/step - loss: 0.1702 - accuracy: 0.9621 - val_loss: 0.2545 - val_accuracy: 0.9490\n",
            "Epoch 16/50\n",
            "96/96 [==============================] - 1s 6ms/step - loss: 0.1622 - accuracy: 0.9630 - val_loss: 0.2467 - val_accuracy: 0.9490\n",
            "Epoch 17/50\n",
            "96/96 [==============================] - 1s 11ms/step - loss: 0.1554 - accuracy: 0.9644 - val_loss: 0.2406 - val_accuracy: 0.9529\n",
            "Epoch 18/50\n",
            "96/96 [==============================] - 1s 7ms/step - loss: 0.1490 - accuracy: 0.9647 - val_loss: 0.2354 - val_accuracy: 0.9569\n",
            "Epoch 19/50\n",
            "96/96 [==============================] - 0s 5ms/step - loss: 0.1431 - accuracy: 0.9673 - val_loss: 0.2303 - val_accuracy: 0.9608\n",
            "Epoch 20/50\n",
            "96/96 [==============================] - 1s 9ms/step - loss: 0.1379 - accuracy: 0.9686 - val_loss: 0.2255 - val_accuracy: 0.9608\n",
            "Epoch 21/50\n",
            "96/96 [==============================] - 1s 6ms/step - loss: 0.1335 - accuracy: 0.9686 - val_loss: 0.2219 - val_accuracy: 0.9608\n",
            "Epoch 22/50\n",
            "96/96 [==============================] - 1s 10ms/step - loss: 0.1290 - accuracy: 0.9702 - val_loss: 0.2182 - val_accuracy: 0.9608\n",
            "Epoch 23/50\n",
            "96/96 [==============================] - 1s 6ms/step - loss: 0.1250 - accuracy: 0.9712 - val_loss: 0.2151 - val_accuracy: 0.9608\n",
            "Epoch 24/50\n",
            "96/96 [==============================] - 1s 6ms/step - loss: 0.1212 - accuracy: 0.9709 - val_loss: 0.2129 - val_accuracy: 0.9608\n",
            "Epoch 25/50\n",
            "96/96 [==============================] - 1s 7ms/step - loss: 0.1179 - accuracy: 0.9722 - val_loss: 0.2108 - val_accuracy: 0.9608\n",
            "Epoch 26/50\n",
            "96/96 [==============================] - 1s 10ms/step - loss: 0.1146 - accuracy: 0.9719 - val_loss: 0.2088 - val_accuracy: 0.9608\n",
            "Epoch 27/50\n",
            "96/96 [==============================] - 0s 4ms/step - loss: 0.1115 - accuracy: 0.9719 - val_loss: 0.2070 - val_accuracy: 0.9608\n",
            "Epoch 28/50\n",
            "96/96 [==============================] - 0s 4ms/step - loss: 0.1087 - accuracy: 0.9725 - val_loss: 0.2050 - val_accuracy: 0.9608\n",
            "Epoch 29/50\n",
            "96/96 [==============================] - 0s 4ms/step - loss: 0.1060 - accuracy: 0.9722 - val_loss: 0.2034 - val_accuracy: 0.9621\n",
            "Epoch 30/50\n",
            "96/96 [==============================] - 0s 4ms/step - loss: 0.1035 - accuracy: 0.9735 - val_loss: 0.2020 - val_accuracy: 0.9595\n",
            "Epoch 31/50\n",
            "96/96 [==============================] - 0s 3ms/step - loss: 0.1011 - accuracy: 0.9735 - val_loss: 0.2006 - val_accuracy: 0.9647\n",
            "Epoch 32/50\n",
            "96/96 [==============================] - 0s 3ms/step - loss: 0.0990 - accuracy: 0.9748 - val_loss: 0.1997 - val_accuracy: 0.9647\n",
            "Epoch 33/50\n",
            "96/96 [==============================] - 0s 3ms/step - loss: 0.0967 - accuracy: 0.9751 - val_loss: 0.1990 - val_accuracy: 0.9660\n",
            "Epoch 34/50\n",
            "96/96 [==============================] - 0s 3ms/step - loss: 0.0947 - accuracy: 0.9751 - val_loss: 0.1969 - val_accuracy: 0.9660\n",
            "Epoch 35/50\n",
            "96/96 [==============================] - 0s 3ms/step - loss: 0.0927 - accuracy: 0.9765 - val_loss: 0.1963 - val_accuracy: 0.9660\n",
            "Epoch 36/50\n",
            "96/96 [==============================] - 0s 3ms/step - loss: 0.0907 - accuracy: 0.9765 - val_loss: 0.1960 - val_accuracy: 0.9647\n",
            "Epoch 37/50\n",
            "96/96 [==============================] - 0s 3ms/step - loss: 0.0891 - accuracy: 0.9774 - val_loss: 0.1952 - val_accuracy: 0.9647\n",
            "Epoch 38/50\n",
            "96/96 [==============================] - 0s 3ms/step - loss: 0.0874 - accuracy: 0.9771 - val_loss: 0.1950 - val_accuracy: 0.9647\n",
            "Epoch 39/50\n",
            "96/96 [==============================] - 0s 3ms/step - loss: 0.0859 - accuracy: 0.9787 - val_loss: 0.1945 - val_accuracy: 0.9660\n",
            "Epoch 40/50\n",
            "96/96 [==============================] - 0s 3ms/step - loss: 0.0842 - accuracy: 0.9784 - val_loss: 0.1937 - val_accuracy: 0.9647\n",
            "Epoch 41/50\n",
            "96/96 [==============================] - 0s 3ms/step - loss: 0.0827 - accuracy: 0.9781 - val_loss: 0.1937 - val_accuracy: 0.9647\n",
            "Epoch 42/50\n",
            "96/96 [==============================] - 0s 3ms/step - loss: 0.0812 - accuracy: 0.9794 - val_loss: 0.1934 - val_accuracy: 0.9647\n",
            "Epoch 43/50\n",
            "96/96 [==============================] - 0s 3ms/step - loss: 0.0798 - accuracy: 0.9797 - val_loss: 0.1933 - val_accuracy: 0.9647\n",
            "Epoch 44/50\n",
            "96/96 [==============================] - 0s 3ms/step - loss: 0.0785 - accuracy: 0.9807 - val_loss: 0.1922 - val_accuracy: 0.9647\n",
            "Epoch 45/50\n",
            "96/96 [==============================] - 0s 3ms/step - loss: 0.0773 - accuracy: 0.9804 - val_loss: 0.1930 - val_accuracy: 0.9660\n",
            "Epoch 46/50\n",
            "96/96 [==============================] - 0s 3ms/step - loss: 0.0760 - accuracy: 0.9804 - val_loss: 0.1925 - val_accuracy: 0.9647\n",
            "Epoch 47/50\n",
            "96/96 [==============================] - 0s 3ms/step - loss: 0.0747 - accuracy: 0.9804 - val_loss: 0.1929 - val_accuracy: 0.9673\n",
            "Epoch 48/50\n",
            "96/96 [==============================] - 0s 3ms/step - loss: 0.0738 - accuracy: 0.9817 - val_loss: 0.1921 - val_accuracy: 0.9660\n",
            "Epoch 49/50\n",
            "96/96 [==============================] - 0s 3ms/step - loss: 0.0724 - accuracy: 0.9823 - val_loss: 0.1921 - val_accuracy: 0.9660\n",
            "Epoch 50/50\n",
            "96/96 [==============================] - 0s 3ms/step - loss: 0.0714 - accuracy: 0.9840 - val_loss: 0.1930 - val_accuracy: 0.9660\n"
          ]
        }
      ]
    },
    {
      "cell_type": "code",
      "source": [
        "model.evaluate(X_test_standard, y_test)"
      ],
      "metadata": {
        "colab": {
          "base_uri": "https://localhost:8080/"
        },
        "id": "whMuOjgzCV1V",
        "outputId": "e6e6ab38-837a-4f7a-a962-b53f5455d61a"
      },
      "execution_count": 15,
      "outputs": [
        {
          "output_type": "stream",
          "name": "stdout",
          "text": [
            "57/57 [==============================] - 0s 2ms/step - loss: 0.1984 - accuracy: 0.9421\n"
          ]
        },
        {
          "output_type": "execute_result",
          "data": {
            "text/plain": [
              "[0.1983710676431656, 0.9421257376670837]"
            ]
          },
          "metadata": {},
          "execution_count": 15
        }
      ]
    },
    {
      "cell_type": "markdown",
      "source": [
        "### Plot Training Curve"
      ],
      "metadata": {
        "id": "qgBOozNBDEJl"
      }
    },
    {
      "cell_type": "code",
      "source": [
        "plt.plot(range(epochs), history.history['loss'], label='train')\n",
        "plt.plot(range(epochs), history.history['val_loss'], label='validation')\n",
        "plt.title('Loss Curve')\n",
        "plt.xlabel('epochs')\n",
        "plt.ylabel('Loss')\n",
        "plt.legend(loc='upper right')\n",
        "plt.show()"
      ],
      "metadata": {
        "colab": {
          "base_uri": "https://localhost:8080/",
          "height": 295
        },
        "id": "A32JQ42FDBT8",
        "outputId": "accb9c20-f2fc-4588-c35a-997d55228d9f"
      },
      "execution_count": 16,
      "outputs": [
        {
          "output_type": "display_data",
          "data": {
            "text/plain": [
              "<Figure size 432x288 with 1 Axes>"
            ],
            "image/png": "[encoded data removed]"
          },
          "metadata": {
            "needs_background": "light"
          }
        }
      ]
    },
    {
      "cell_type": "markdown",
      "source": [
        "### Optimal Number For Training epochs is 20"
      ],
      "metadata": {
        "id": "QmLhFYVhDTr4"
      }
    },
    {
      "cell_type": "code",
      "source": [
        "plt.plot(range(epochs), history.history['accuracy'], label='train')\n",
        "plt.plot(range(epochs), history.history['val_accuracy'], label='validation')\n",
        "plt.title('Accuracy Curve')\n",
        "plt.xlabel('epochs')\n",
        "plt.ylabel('accuracy')\n",
        "plt.legend(loc='lower right')\n",
        "plt.show()"
      ],
      "metadata": {
        "colab": {
          "base_uri": "https://localhost:8080/",
          "height": 295
        },
        "id": "9GEqGkABEODZ",
        "outputId": "2fea537a-6457-4979-fc96-f3efc2155191"
      },
      "execution_count": 17,
      "outputs": [
        {
          "output_type": "display_data",
          "data": {
            "text/plain": [
              "<Figure size 432x288 with 1 Axes>"
            ],
            "image/png": "[encoded data removed]"
          },
          "metadata": {
            "needs_background": "light"
          }
        }
      ]
    },
    {
      "cell_type": "code",
      "source": [],
      "metadata": {
        "id": "fqv_lQ9xEO2x"
      },
      "execution_count": null,
      "outputs": []
    }
  ]
}